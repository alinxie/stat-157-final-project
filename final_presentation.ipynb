{
 "cells": [
  {
   "cell_type": "markdown",
   "metadata": {
    "slideshow": {
     "slide_type": "slide"
    }
   },
   "source": [
    "# Permute Package Software Contributions"
   ]
  },
  {
   "cell_type": "code",
   "execution_count": 1,
   "metadata": {
    "slideshow": {
     "slide_type": "skip"
    }
   },
   "outputs": [],
   "source": [
    "import numpy as np\n",
    "from permute.core import one_sample, one_sample_conf_int, one_sample_percentile, one_sample_percentile_ci\n",
    "from numpy.random import RandomState\n",
    "prng = RandomState()"
   ]
  },
  {
   "cell_type": "markdown",
   "metadata": {
    "slideshow": {
     "slide_type": "slide"
    }
   },
   "source": [
    "## Main Contributions\n",
    "1. One Sample Confidence Tests for Symmetric Distributions\n",
    "2. One Sample Confidence Tests for Population Percentiles.\n",
    "3. Confidence Tests for Regression\n",
    "4. Hoeffding's Inequality\n",
    "6. SPRT and Kaplan-Wald"
   ]
  },
  {
   "cell_type": "markdown",
   "metadata": {
    "slideshow": {
     "slide_type": "slide"
    }
   },
   "source": [
    "## One Sample Test for Center of a Symmetric Distribution\n",
    "With only assumptions of an i.i.d. sample $X_n$, how can we check whether our sample's center is the true center of the population given that it is symmetric about a given center $c$? \n",
    "\n"
   ]
  },
  {
   "cell_type": "markdown",
   "metadata": {
    "slideshow": {
     "slide_type": "slide"
    }
   },
   "source": [
    "## Motivation\n",
    "* Gives us yet another way to predict the center of a distribution with little assumptions made about the distribution.\n",
    "* A method for performing non-parametric paired tests."
   ]
  },
  {
   "cell_type": "markdown",
   "metadata": {
    "slideshow": {
     "slide_type": "slide"
    }
   },
   "source": [
    "## Hypothesis Test\n",
    "* **$H_0$**: $\\bar X = \\mu$ \n",
    "\n",
    "* **$H_1$**: $\\bar X \\ne \\mu$ "
   ]
  },
  {
   "cell_type": "markdown",
   "metadata": {
    "slideshow": {
     "slide_type": "slide"
    }
   },
   "source": [
    "## Symmetric Assumption\n",
    "* There is an equal $\\frac{1}{2}$ chance for a datapoint of a sample to be below or above $c$.\n",
    "\n"
   ]
  },
  {
   "cell_type": "markdown",
   "metadata": {
    "slideshow": {
     "slide_type": "slide"
    }
   },
   "source": [
    "## Creating Samples\n",
    "* Create samples $\\hat X_n$ where each element of $X_n$ is permuted around $c$.\n",
    "* For $\\hat X_i$ ($i = 1, \\ldots n$) , $\\hat X_i = c + (X_i - c) \\cdot (1 - 2 B(\\frac{1}{2}))$"
   ]
  },
  {
   "cell_type": "markdown",
   "metadata": {
    "slideshow": {
     "slide_type": "slide"
    }
   },
   "source": [
    "### P-Value (Alternative: Greater)\n",
    "* $P(\\bar X \\gt \\mu) \\approx \\frac{\\#(\\bar{\\hat X_n} > \\bar X_n)}{\\#(\\hat X_n)}$"
   ]
  },
  {
   "cell_type": "markdown",
   "metadata": {
    "slideshow": {
     "slide_type": "slide"
    }
   },
   "source": [
    "### Code"
   ]
  },
  {
   "cell_type": "code",
   "execution_count": null,
   "metadata": {
    "slideshow": {
     "slide_type": "fragment"
    }
   },
   "outputs": [],
   "source": [
    "def one_sample(x, center=0, tst_fun=np.mean):\n",
    "    tst = tst_fun(stat)\n",
    "    hits = np.sum([\n",
    "        tst_fun(\n",
    "            center + (x - center) * (1 - 2 * prng.binomial(1, .5, size=n))\n",
    "            ) >= tst\n",
    "        for i in range(reps)\n",
    "    ])\n",
    "    return (hits / reps), tst"
   ]
  },
  {
   "cell_type": "markdown",
   "metadata": {
    "slideshow": {
     "slide_type": "slide"
    }
   },
   "source": [
    "## Example"
   ]
  },
  {
   "cell_type": "code",
   "execution_count": 6,
   "metadata": {
    "slideshow": {
     "slide_type": "fragment"
    }
   },
   "outputs": [
    {
     "name": "stdout",
     "output_type": "stream",
     "text": [
      "(0.56947000000000003, 49.5)\n",
      "(0.06386, 49.5)\n",
      "(0.96828999999999998, 49.5)\n"
     ]
    }
   ],
   "source": [
    "x = np.array(range(100))\n",
    "print(one_sample(x, center=50, stat=\"mean\", alternative = \"greater\"))\n",
    "print(one_sample(x, center=45, stat=\"mean\", alternative = \"greater\"))\n",
    "print(one_sample(x, center=55, stat=\"mean\", alternative = \"greater\"))"
   ]
  },
  {
   "cell_type": "code",
   "execution_count": 15,
   "metadata": {
    "slideshow": {
     "slide_type": "fragment"
    }
   },
   "outputs": [
    {
     "name": "stdout",
     "output_type": "stream",
     "text": [
      "(0.64393, 0.8140158706349897)\n",
      "(0.055489999999999998, 0.8140158706349897)\n"
     ]
    }
   ],
   "source": [
    "y = x - np.random.normal(1,5,100)\n",
    "print(one_sample(x, y, center=1, alternative = \"greater\"))\n",
    "print(one_sample(x, y, center=0, alternative = \"greater\"))"
   ]
  },
  {
   "cell_type": "markdown",
   "metadata": {
    "slideshow": {
     "slide_type": "skip"
    }
   },
   "source": [
    "### Procedure\n",
    "\n",
    "Start with an observed test statistic of the sample, $\\bar x$.\n",
    "\n",
    "To solve this, create a large number of samples $\\hat x$ where data points of these new samples are either to the left or right of $c$. Through the null hypothesis of symmetry, for each data point, there is an equal chance for it to be $|x-c|$ to the left of $c$, or $|x-c|$ to the right of $c$. For each datapoint $x_i$ in a sample, the new sample data point would be $\\hat x_i = c + (x_i - c) \\cdot (1 - 2 B(\\frac{1}{2}))$. Where $B(\\frac{1}{2})$ is a Bernoulli random variable that is equal to 1 with chance $\\frac{1}{2}$ and 0 otherwise.\n",
    "\n",
    "With each of these new samples $\\hat x$, the test statistic for center of each of the distributions will be computed and it would be checked whether the observed statistic is greater or less than the statistic of the new 'permuted' sample. If the alternative hypothesis is that the center of the sample is greater than the population center, \n",
    "\n",
    "The p value would be the number of observations where the observed center statistic is less than/greater than (Depending on the alternative of the test) the shuffled samples' center statistic over the total number of shuffles done."
   ]
  },
  {
   "cell_type": "markdown",
   "metadata": {
    "slideshow": {
     "slide_type": "slide"
    }
   },
   "source": [
    "## One Sample Test for Population Percentiles\n",
    "\n",
    "* With only assumptions of an IID sample $X_n$, how can we find the chance that a value $\\hat q_p$ is the $p$th percentile of the population?\n"
   ]
  },
  {
   "cell_type": "markdown",
   "metadata": {
    "slideshow": {
     "slide_type": "slide"
    }
   },
   "source": [
    "## Test\n",
    "* Use the test statistic $\\hat X_p$, the observed number of values in $X_n$ at or below $\\hat q_p$.\n",
    "* $H_0: \\hat X_p = X_{p}$\n",
    "* $H_0: \\hat X_p \\ne X_{p}$"
   ]
  },
  {
   "cell_type": "markdown",
   "metadata": {
    "slideshow": {
     "slide_type": "slide"
    }
   },
   "source": [
    "## Theory\n",
    "* $X_p \\sim Binom(n, \\frac{p}{100})$"
   ]
  },
  {
   "cell_type": "markdown",
   "metadata": {
    "slideshow": {
     "slide_type": "skip"
    }
   },
   "source": [
    "### Reframe to Inverted Binomial Confidence Test\n",
    "If $q_p$ is the the $p$th percentile of the population distribution, then for every value observed from the population there is a $p$ chance that it would be at or below $q_p$ ($P(X <= q_p) = p$). That means that the distribution of the number of a datapoints in $X_n$ that are less than or equal to $q_p$ ($n_p$) is approximately $Binom(n, p)$. If $n_p$ is the number of values at or below $q_p$ in the sample, we can test if $q_p$ is the $p$th percentile by getting a cdf of $Binom(n, p)$ at $n_p$."
   ]
  },
  {
   "cell_type": "markdown",
   "metadata": {
    "slideshow": {
     "slide_type": "skip"
    }
   },
   "source": [
    "### Confidence Test\n",
    "* Test statistic: The number of values of a sample at or below $q_p$, $n_p$.\n",
    "* $X_{p0}$: The true number of values at or below the $p$th percentile of the population in a sample or size $n$.\n",
    "\n",
    "**Null Hypothesis**\n",
    "* $X_p = X_{p0}$\n",
    "\n",
    "**Alternative Hypothesis**\n",
    "* $X_p \\ne X_{p0}$\n"
   ]
  },
  {
   "cell_type": "code",
   "execution_count": null,
   "metadata": {
    "slideshow": {
     "slide_type": "skip"
    }
   },
   "outputs": [],
   "source": [
    "* Null- It would not be surprising to find $n_p$ values at or below $q_p$ in a sample.\n",
    "* AlternativeIt would be surprising to find $n_p$ values at or below $q_p$ in a sample."
   ]
  },
  {
   "cell_type": "markdown",
   "metadata": {
    "slideshow": {
     "slide_type": "slide"
    }
   },
   "source": [
    "### P-value (Alternative: $ \\hat X_p \\lt X_{p}$)\n",
    "* $P(X_{p} \\le \\hat X_{p}) \\approx P(Binom(n,\\frac{p}{100}) \\le \\hat X_{p}) = BinomCDF(\\hat X_p, n, \\frac{p}{100})$\n",
    "* Reject if $P(X_{p} \\le \\hat X_{p}) <= \\alpha$"
   ]
  },
  {
   "cell_type": "markdown",
   "metadata": {
    "slideshow": {
     "slide_type": "slide"
    }
   },
   "source": [
    "## Code\n",
    "\n"
   ]
  },
  {
   "cell_type": "code",
   "execution_count": null,
   "metadata": {
    "slideshow": {
     "slide_type": "fragment"
    }
   },
   "outputs": [],
   "source": [
    "def one_sample_percentile(x, x_p, p=50):\n",
    "    return binomial_p(np.sum(x <= x_p), len(x), p/100)\n"
   ]
  },
  {
   "cell_type": "markdown",
   "metadata": {
    "slideshow": {
     "slide_type": "slide"
    }
   },
   "source": [
    "## Example"
   ]
  },
  {
   "cell_type": "code",
   "execution_count": 10,
   "metadata": {
    "slideshow": {
     "slide_type": "fragment"
    }
   },
   "outputs": [
    {
     "name": "stdout",
     "output_type": "stream",
     "text": [
      "(0.62565000000000004, 71)\n",
      "(0.22040999999999999, 66)\n",
      "(0.92532000000000003, 76)\n"
     ]
    }
   ],
   "source": [
    "x = np.arange(0,100)\n",
    "print(one_sample_percentile(x, 70, p=70, alternative=\"less\"))\n",
    "print(one_sample_percentile(x, 65, p=70, alternative=\"less\"))\n",
    "print(one_sample_percentile(x, 75, p=70, alternative=\"less\"))"
   ]
  },
  {
   "cell_type": "markdown",
   "metadata": {
    "slideshow": {
     "slide_type": "slide"
    }
   },
   "source": [
    "## Creating Confidence Bounds\n",
    "* Use a root optimizer to fine tune confidence tests to a desired $\\alpha$ value\n",
    "* In Permute package: `scipy.optimize.brentq`"
   ]
  },
  {
   "cell_type": "markdown",
   "metadata": {
    "slideshow": {
     "slide_type": "slide"
    }
   },
   "source": [
    "## Code"
   ]
  },
  {
   "cell_type": "code",
   "execution_count": null,
   "metadata": {
    "slideshow": {
     "slide_type": "fragment"
    }
   },
   "outputs": [],
   "source": [
    "def one_sample_conf_int(x, alternative ='two-sided')\n",
    "    shift_limit = max(x) - min(x)\n",
    "    cl = 1 - (1 - cl) / 2\n",
    "\n",
    "    g = lambda q: cl - one_sample(z, alternative=\"less\", seed=seed, \\\n",
    "        reps=reps, stat=stat, center=q)[0]\n",
    "    ci_low = brentq(g, tst - 2 * shift_limit, tst + 2 * shift_limit)\n",
    "\n",
    "    g = lambda q: cl - one_sample(z, alternative=\"greater\", seed=seed, \\\n",
    "        reps=reps, stat=stat, center=q)[0]\n",
    "    ci_upp = brentq(g, tst - 2 * shift_limit, tst + 2 * shift_limit)\n",
    "    return [ci_low, ci_upp]"
   ]
  },
  {
   "cell_type": "markdown",
   "metadata": {
    "slideshow": {
     "slide_type": "slide"
    }
   },
   "source": [
    "## Example"
   ]
  },
  {
   "cell_type": "code",
   "execution_count": 3,
   "metadata": {
    "slideshow": {
     "slide_type": "fragment"
    }
   },
   "outputs": [
    {
     "data": {
      "text/plain": [
       "(43.775542578796106, 55.27670001983047)"
      ]
     },
     "execution_count": 3,
     "metadata": {},
     "output_type": "execute_result"
    }
   ],
   "source": [
    "x = np.arange(100)\n",
    "one_sample_conf_int(x, alternative=\"two-sided\", stat=\"mean\")"
   ]
  },
  {
   "cell_type": "code",
   "execution_count": 4,
   "metadata": {
    "slideshow": {
     "slide_type": "fragment"
    }
   },
   "outputs": [
    {
     "data": {
      "text/plain": [
       "(-0.013193449423802388, 1.7622026211844226)"
      ]
     },
     "execution_count": 4,
     "metadata": {},
     "output_type": "execute_result"
    }
   ],
   "source": [
    "# Paired Permutation Test\n",
    "y = x - np.random.normal(1, 5, 100)\n",
    "one_sample_conf_int(x, y, alternative=\"two-sided\", stat=\"mean\")"
   ]
  },
  {
   "cell_type": "code",
   "execution_count": 5,
   "metadata": {
    "slideshow": {
     "slide_type": "fragment"
    }
   },
   "outputs": [
    {
     "data": {
      "text/plain": [
       "(60.94747972728336, 77.16020888527758)"
      ]
     },
     "execution_count": 5,
     "metadata": {},
     "output_type": "execute_result"
    }
   ],
   "source": [
    "# Percentile Confidence Interval\n",
    "one_sample_percentile_ci(x, p=70, alternative=\"two-sided\")"
   ]
  },
  {
   "cell_type": "markdown",
   "metadata": {
    "slideshow": {
     "slide_type": "slide"
    }
   },
   "source": [
    "# Permutation Tests of Significance for Simple Linear Regression\n",
    "\n",
    "We introduce a permutation based method to test the significance of the coefficient in a simple linear regression."
   ]
  },
  {
   "cell_type": "markdown",
   "metadata": {
    "slideshow": {
     "slide_type": "slide"
    }
   },
   "source": [
    "### Simple Linear Regression\n",
    "\n",
    "- Have a data set with two variables $\\{(x_i, y_i)\\}_{i=1}^n$\n",
    "- and we fit the regression equation\n",
    "$$y_i = a + \\beta x_i + \\epsilon_i$$\n",
    " \n",
    "- $\\epsilon_i$ is the error term\n",
    "-  $a$ and $\\beta$ minimizes the sum of square differences: $\\sum_{i=1}^n(y_i - a - \\beta x_i)^2$."
   ]
  },
  {
   "cell_type": "markdown",
   "metadata": {
    "slideshow": {
     "slide_type": "slide"
    }
   },
   "source": [
    "### T-test \n",
    "\n",
    "Using this method you test the null hypothesis: $H_0 : \\beta = 0$. Then using the standard error of the coefficient we can calculate the test statistic\n",
    "\n",
    "$$se(\\beta) = \\sqrt{\\frac{\\frac{1}{n-2}\\sum_{i=1}^n\\epsilon_i^2}{\\sum_{i=1}^n(x_i - \\bar{x})}}, \\quad\\quad t^* = \\frac{\\beta}{se(\\beta)}$$\n",
    "\n",
    "However, these tests can only be carried out if we assume that the error terms, $\\epsilon_i \\sim \\mathcal{N}(0, \\sigma^2)$ "
   ]
  },
  {
   "cell_type": "markdown",
   "metadata": {
    "slideshow": {
     "slide_type": "slide"
    }
   },
   "source": [
    "### Permutation Method\n",
    "\n",
    "Under the assumption of the null hypothesis $H_0:\\beta = 0$, we see that our regression relationship becomes \n",
    "\n",
    "$$y_i = a + \\epsilon_i$$\n",
    "\n",
    "- This indicates that there is no relationship between the $x_i$'s and the $y_i$'s."
   ]
  },
  {
   "cell_type": "markdown",
   "metadata": {
    "slideshow": {
     "slide_type": "slide"
    }
   },
   "source": [
    " - The idea is that we can shuffle the paired data and see what the regression coefficients. \n",
    " - We expect them to be around the same."
   ]
  },
  {
   "cell_type": "markdown",
   "metadata": {
    "slideshow": {
     "slide_type": "slide"
    }
   },
   "source": [
    " - We can generate a p-value by taking the fraction of occurrences where $|\\beta_{\\pi}| > |\\beta|$ over a large number of trials of permuting the data, where $\\beta_{\\pi}$'s are the coefficients from the permuted data, and $\\beta$ is the coefficient obtained from the original data. "
   ]
  },
  {
   "cell_type": "code",
   "execution_count": 5,
   "metadata": {
    "slideshow": {
     "slide_type": "slide"
    }
   },
   "outputs": [
    {
     "name": "stdout",
     "output_type": "stream",
     "text": [
      "0.959\n"
     ]
    }
   ],
   "source": [
    "from regcoeff import reg_coeff\n",
    "import numpy as np\n",
    "from scipy.stats import linregress\n",
    "\n",
    "x = np.array(range(100))\n",
    "y = np.random.permutation(x)\n",
    "\n",
    "reg_coeff(x, y, reps=1000)"
   ]
  },
  {
   "cell_type": "code",
   "execution_count": 6,
   "metadata": {
    "slideshow": {
     "slide_type": "slide"
    }
   },
   "outputs": [
    {
     "name": "stdout",
     "output_type": "stream",
     "text": [
      "0\n"
     ]
    }
   ],
   "source": [
    "x = np.array(range(100))\n",
    "y = np.array(range(100))\n",
    "\n",
    "reg_coeff(x, y, reps=1000)"
   ]
  },
  {
   "cell_type": "markdown",
   "metadata": {
    "slideshow": {
     "slide_type": "slide"
    }
   },
   "source": [
    "## Hoeffding's Inequality for Confidence Bounds\n",
    "\n",
    "Given a probability distribution, how likely is this distribution going to be close to its expectation? "
   ]
  },
  {
   "cell_type": "markdown",
   "metadata": {
    "slideshow": {
     "slide_type": "slide"
    }
   },
   "source": [
    "## Similar Flavors\n",
    "- Markov Inequality\n",
    "- Chebyshev's Inequality\n",
    "- Now, Hoeffding's Inequality!"
   ]
  },
  {
   "cell_type": "markdown",
   "metadata": {
    "slideshow": {
     "slide_type": "slide"
    }
   },
   "source": [
    "### Hoeffding's Inequality\n",
    "\n",
    "Let $Z_1, \\dots, Z_n$ be independent bounded random variables with $Z_i \\in [a_i,b_i]$ for all $i$, where $-\\infty < a \\leq b < \\infty$. Then\n",
    "$$\\mathbb{P}\\left(\\frac{1}{n}\\sum_{i=1}^n(Z_i - \\mathbb{E}[Z_i]) \\geq t\\right) \\leq exp\\left(-\\frac{2n^2t^2}{\\sum_{i=1}^n(b_i-a_i)^2}\\right)$$\n",
    "and \n",
    "$$\\mathbb{P}\\left(\\frac{1}{n}\\sum_{i=1}^n(Z_i - \\mathbb{E}[Z_i]) \\leq -t\\right) \\leq exp\\left(-\\frac{2n^2t^2}{\\sum_{i=1}^n(b_i-a_i)^2}\\right)$$\n",
    "for all $t \\geq 0$.\n"
   ]
  },
  {
   "cell_type": "markdown",
   "metadata": {
    "slideshow": {
     "slide_type": "slide"
    }
   },
   "source": [
    "#### Deriving the Confidence Interval\n",
    "$$\\mathbb{P}\\left(\\frac{1}{n}\\sum_{i=1}^n(Z_i - \\mathbb{E}[Z_i]) \\geq t\\right) \\leq exp\\left(-\\frac{2n^2t^2}{\\sum_{i=1}^n(b_i-a_i)^2}\\right)$$\n",
    "\n",
    "Let\n",
    "\n",
    "$$t = \\sqrt{\\frac{-\\ln{(\\alpha)}\\sum_{i=1}^n(b_i-a_i)^2}{2n^2}}$$"
   ]
  },
  {
   "cell_type": "markdown",
   "metadata": {
    "slideshow": {
     "slide_type": "slide"
    }
   },
   "source": [
    "Then we see that:\n",
    "\n",
    "$$\\mathbb{P}\\left(\\bar{Z} - \\mu \\geq \\sqrt{\\frac{-\\ln{(\\alpha)}\\sum_{i=1}^n(b_i-a_i)^2}{2n^2}}\\right) \\leq exp\\left( \\frac{2n^2\\ln{(\\alpha)}\\sum_{i=1}^n(b_i-a_i)^2}{2n^2\\sum_{i=1}^n(b_i-a_i)^2}  \\right) = e^{\\ln(\\alpha)} = \\alpha$$"
   ]
  },
  {
   "cell_type": "markdown",
   "metadata": {
    "slideshow": {
     "slide_type": "slide"
    }
   },
   "source": [
    "This gives us that the interval\n",
    "\n",
    "$$\\left[\\bar{Z} - \\sqrt{\\frac{-\\ln{(\\alpha)}\\sum_{i=1}^n(b_i-a_i)^2}{2n^2}}, \\frac{1}{n}\\sum_{i=1}^n b_i\\right]$$\n",
    "\n",
    "is a one-sided confidence interval with 1-$\\alpha$ confidence interval.\n"
   ]
  },
  {
   "cell_type": "markdown",
   "metadata": {
    "slideshow": {
     "slide_type": "slide"
    }
   },
   "source": [
    "We can do a similar computation to get the two-sided interval\n",
    "\n",
    "$$\\left[\\bar{Z} - \\sqrt{\\frac{-\\ln{\\alpha}\\sum_{i=1}^n(b_i-a_i)^2}{2n^2}}, \\bar{Z} + \\sqrt{\\frac{-\\ln{\\alpha}\\sum_{i=1}^n(b_i-a_i)^2}{2n^2}}\\right]$$"
   ]
  },
  {
   "cell_type": "code",
   "execution_count": 4,
   "metadata": {
    "slideshow": {
     "slide_type": "slide"
    }
   },
   "outputs": [
    {
     "name": "stdout",
     "output_type": "stream",
     "text": [
      "(0.07053059165326248, 0.9294694083467375)\n"
     ]
    }
   ],
   "source": [
    "import numpy as np\n",
    "from hoeffding import hoeffding_conf_int\n",
    "\n",
    "values = np.array([0.5]*10)\n",
    "res = hoeffding_conf_int(values, 10, 0, 1, cl=0.95, alternative=\"two-sided\")\n",
    "res"
   ]
  },
  {
   "cell_type": "markdown",
   "metadata": {
    "slideshow": {
     "slide_type": "slide"
    }
   },
   "source": [
    "## SPRT\n",
    "### When we talk about testing problems...\n",
    "- Either accept or reject the null hypothesis\n",
    "- Do we have enough data? Is the conclusion fair?"
   ]
  },
  {
   "cell_type": "markdown",
   "metadata": {
    "slideshow": {
     "slide_type": "slide"
    }
   },
   "source": [
    "### What if we want to admit that we are not clear ...\n",
    "- Set up threshold for acceptance and reject\n",
    "- The remaining region is unclear"
   ]
  },
  {
   "cell_type": "markdown",
   "metadata": {
    "slideshow": {
     "slide_type": "slide"
    }
   },
   "source": [
    "### Idea of Sequential Testing\n",
    "Collection observation one at a time,\n",
    "when $X_i = x_i$ has been observed, we choose to:\n",
    "- Accept the null hypothesis and stop\n",
    "- Reject the null hypothesis and stop\n",
    "- or.. defer judgement until we have collected $X_{i+1}$"
   ]
  },
  {
   "cell_type": "markdown",
   "metadata": {
    "slideshow": {
     "slide_type": "slide"
    }
   },
   "source": [
    "### Connecting to LRT\n",
    "We consider a simple hypothesis $H_0: \\theta = \\theta_0$ against\n",
    "a simple alternative $H_1: \\theta = \\theta_1$\n",
    "\n",
    "$$\\Lambda_n = \\log \\frac{L(\\theta_1; X_1, ..., X_n)}{L(\\theta_0; X_1, ..., X_n)}$$\n",
    "\n",
    "- If $\\Lambda_n < A$, decide that H0 is true and stop;\n",
    "- If $\\Lambda_n > B$, decide that H1 is true and stop;\n",
    "- ... or we continue collecting observation"
   ]
  },
  {
   "cell_type": "markdown",
   "metadata": {
    "slideshow": {
     "slide_type": "slide"
    }
   },
   "source": [
    "### Wald's SPRT Bound\n",
    "$$A = \\log \\frac{β}{1 − α} \\text{, } B = \\log \\frac{1 − β}{α}$$\n",
    "\n",
    "We would want to control the two types of error:\n",
    "1. $\\alpha =$ Pr(Deciding for $H_1$ when $H_0$ is true)\n",
    "2. $\\beta =$ Pr(Deciding for $H_0$ when $H_1$ is true)"
   ]
  },
  {
   "cell_type": "markdown",
   "metadata": {
    "slideshow": {
     "slide_type": "slide"
    }
   },
   "source": [
    "### Note\n",
    "- SPRT can also be shown that the boundaries A and B can be\n",
    "- Minimizes the average sample size before a decision "
   ]
  },
  {
   "cell_type": "markdown",
   "metadata": {
    "slideshow": {
     "slide_type": "slide"
    }
   },
   "source": [
    "### An Example of SPRT on Proportion\n",
    "- 40% of the students in Andrew's section score above average.\n",
    "- Andrew provides a review session so that more students can score abover average.\n",
    "- His aim: 80% of the students will score above averge, or else the session is useless.\n",
    "- $p_0=0.4$, $p_1=0.8$"
   ]
  },
  {
   "cell_type": "code",
   "execution_count": 13,
   "metadata": {
    "slideshow": {
     "slide_type": "slide"
    }
   },
   "outputs": [
    {
     "data": {
      "text/plain": [
       "<function __main__.sprt>"
      ]
     },
     "execution_count": 13,
     "metadata": {},
     "output_type": "execute_result"
    },
    {
     "data": {
      "image/png": "[encoded data removed]",
      "text/plain": [
       "<matplotlib.figure.Figure at 0x11a286518>"
      ]
     },
     "metadata": {},
     "output_type": "display_data"
    }
   ],
   "source": [
    "sprt(x, 0.4, 0.8, 0.05, 0.05, plot=True)"
   ]
  },
  {
   "cell_type": "markdown",
   "metadata": {
    "slideshow": {
     "slide_type": "slide"
    }
   },
   "source": [
    "### Kaplan-Wald\n",
    "We want to find the lower confidence bound for the mean of a nonnegative random variable\n",
    "\n",
    "- We have a sequence of nonnegative random variables, iid, $X_1, \\ldots, X_n$\n",
    "- Drawn from the same distribution, $F$\n",
    "- Thier common expection is $\\mu \\equiv \\mathbb E X_i = \\int_0^\\infty x dF$\n"
   ]
  },
  {
   "cell_type": "markdown",
   "metadata": {
    "slideshow": {
     "slide_type": "slide"
    }
   },
   "source": [
    "We make the hypothesis that $\\mu = t$\n",
    "\n",
    "$$\n",
    "    1 =\\frac{t}{\\mu} =  t^{-1} \\int_0^\\infty  xdF(x) = \\int_0^\\infty xt^{-1} dF(x).\n",
    "$$\n",
    "Fix $\\gamma \\in [0, 1]$.\n",
    "\n",
    "$$  \n",
    "    \\mathbb E \\left (\\frac{\\gamma}{t} X_j + (1-\\gamma) \\right ) = \\frac{\\gamma}{t} \\mathbb E X_j + (1-\\gamma) =  \n",
    "     \\frac{\\gamma}{t}t + (1-\\gamma) = 1.\n",
    "$$\n",
    "\n",
    "$$\n",
    "   \\mathbb E \\left (\\frac{\\gamma}{t} X_j + (1-\\gamma) \\right ) \\equiv \n",
    "     \\int_0^\\infty \\left (x \\frac{\\gamma}{t} + (1-\\gamma) \\right ) dF(x).\n",
    "$$\n",
    "Let $dG \\equiv (x \\frac{\\gamma}{t} + (1-\\gamma))dF$, then $G$ is the cdf of a nonnegative random variable Y."
   ]
  },
  {
   "cell_type": "markdown",
   "metadata": {
    "slideshow": {
     "slide_type": "slide"
    }
   },
   "source": [
    "\\begin{align}\n",
    "    \\mathbb E Y  &= \\int_0^\\infty x dG(x) \\\\\n",
    "                 &= \\int_0^\\infty x (x \\frac{\\gamma}{t} + (1-\\gamma)) dF(x) \\\\\n",
    "                 &= \\frac{\\gamma}{t} \\int_0^\\infty x^2 dF(x) + (1-\\gamma) \\int_0^\\infty x dF(x) \\\\\n",
    "                 &= \\frac{\\gamma}{t} \\cdot \\mathbb E X_j^2 + (1-\\gamma) \\cdot \\mathbb E X_j \\\\\n",
    "                 &\\ge \\gamma \\cdot \\mathbb E X_j + (1-\\gamma) \\cdot \\mathbb E X_j \\\\\n",
    "                 &\\ge \\mathbb E X_j.\n",
    "\\end{align}\n",
    "Reminder: Jensen's inequality, $\\mathbb E X_j^2 \\ge (\\mathbb E X_j)^2 = t \\cdot \\mathbb E X_j$ (by hypothesis )."
   ]
  },
  {
   "cell_type": "markdown",
   "metadata": {
    "slideshow": {
     "slide_type": "slide"
    }
   },
   "source": [
    "### What does $\\mathbb E Y \\ge \\mathbb E X_j$ mean?\n",
    "- $H_0$: {$X_j$} are iid with cdf F\n",
    "- $H_1$: {$X_j$} are iid with cdf G\n",
    "#### If we can reject the null, we have strong statistical evidence that $\\mathbb E X_j > t$."
   ]
  },
  {
   "cell_type": "markdown",
   "metadata": {
    "slideshow": {
     "slide_type": "slide"
    }
   },
   "source": [
    "### $H_1$ versus $H_0$\n",
    "$$\n",
    "    \\frac{dG(x_j)}{dF(x_j)} = \\frac{(\\frac{\\gamma}{t}+(1−γ))dF(x_j)}{dF(x_j)} = (x_j\\frac{\\gamma}{t}+(1−γ))\n",
    "$$\n",
    "$$\\Lambda_n = \\Pi_{i=1}^n \\left ((\\frac{\\gamma}{t}) X_i + 1 - \\gamma \\right)$$\n",
    "\n",
    "- The LR does not depend on the distribution of F or G at all"
   ]
  },
  {
   "cell_type": "markdown",
   "metadata": {
    "slideshow": {
     "slide_type": "slide"
    }
   },
   "source": [
    "### Bring in the SPRT, finally\n",
    "Recall that the SPRT says if $\\Lambda_n > \\frac{1}{\\alpha}$, (assuming $\\beta = 0$), we reject the null and stop.\n",
    "\n",
    "- $$\n",
    "    \\mbox{ Reject } H_0 \\mbox{ if } \\max_{m=1}^n \\Pi_{i=1}^m \\left [ \\gamma X_i/t + 1 - \\gamma \\right ] \\ge 1/\\alpha.\n",
    "$$\n",
    "- Solve for root in the range $t \\in [0, mean(X)]$"
   ]
  }
 ],
 "metadata": {
  "celltoolbar": "Slideshow",
  "kernelspec": {
   "display_name": "Python 3",
   "language": "python",
   "name": "python3"
  },
  "language_info": {
   "codemirror_mode": {
    "name": "ipython",
    "version": 3
   },
   "file_extension": ".py",
   "mimetype": "text/x-python",
   "name": "python",
   "nbconvert_exporter": "python",
   "pygments_lexer": "ipython3",
   "version": "3.6.3"
  }
 },
 "nbformat": 4,
 "nbformat_minor": 2
}
